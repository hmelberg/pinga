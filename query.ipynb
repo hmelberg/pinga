{
  "nbformat": 4,
  "nbformat_minor": 0,
  "metadata": {
    "colab": {
      "name": "query.ipynb",
      "provenance": []
    },
    "kernelspec": {
      "name": "python3",
      "display_name": "Python 3"
    }
  },
  "cells": [
    {
      "cell_type": "code",
      "metadata": {
        "id": "k5ZxDky2OZI4"
      },
      "source": [
        "#default_exp query"
      ],
      "execution_count": null,
      "outputs": []
    },
    {
      "cell_type": "code",
      "metadata": {
        "id": "tqmQkGtgOZJA"
      },
      "source": [
        "#export\n",
        "# mark rows that contain certain codes in one or more colums\n",
        "def get_rows(df, codes, cols=None, sep=None, pid='pid', expand=False, codebook=None):\n",
        "  \"\"\"\n",
        "  Make a boolean series that is true for all rows that contain the codes\n",
        "  \n",
        "  Args\n",
        "    df (dataframe or series): The dataframe with codes\n",
        "    codes (str, list, set, dict): codes to be counted\n",
        "    cols (str or list): list of columns to search in\n",
        "    sep (str): The symbol that separates the codes if there are multiple codes in a cell\n",
        "    pid (str): The name of the column with the personal identifier\n",
        "\n",
        "  \"\"\"\n",
        "    \n",
        "  # string as input for single codes is allowed\n",
        "  # but then must make it a list\n",
        "  if isinstance(codes, str):\n",
        "    codes = [codes]\n",
        "  \n",
        "  # same for cols\n",
        "  # must be a list sine we may loop over it\n",
        "  if not isinstance(cols, list):\n",
        "    cols = [cols]\n",
        "\n",
        "  if any(notation in ''.join(cols) for notation in '*-:']):\n",
        "      cols=expand_cols(cols)\n",
        "  \n",
        "  # special case: star notation that does not require expansion\n",
        "\n",
        "  if expand:\n",
        "     # start with special case. for speed:  star notation that does not require expansion\n",
        "     # (does not require making a list of unique values)\n",
        "     if any(code.endswith('*') for code in codes):\n",
        "       star_codes=[code for code in codes if code.endswith('*')]\n",
        "       codes=[code for codes if code not in star_codes]\n",
        "       \n",
        "       #if codes have both star and hyphen notation\n",
        "       star_codes=expand_hyphen(star_codes) \n",
        "       \n",
        "       #get the rows!\n",
        "       endstar_rows=_get_rows_endstar(df=df, codes=codes, cols=cols, codebook=codebook)\n",
        "       \n",
        "       # return rows right away if there are no other codes to be checked\n",
        "       if len(codes)==0:\n",
        "         return endstar_rows\n",
        "\n",
        "    # continue with all other codes \n",
        "    # check if any codes need expansion\n",
        "    if any(notation in ''.join(codes) for notation in '*-:']):\n",
        "      codes=expand_codes(codes)\n",
        "\n",
        "  # approach depends on whether we have multi-value cells or not\n",
        "  # if sep exist, then have multi-value cells\n",
        "  if sep:\n",
        "    # have multi-valued cells\n",
        "    codes = [rf'\\b{code}\\b' for code in codes]\n",
        "    codes_regex = '|'.join(codes)\n",
        "    \n",
        "    # starting point: no codes have been found\n",
        "    # needed since otherwise the function might return None if no codes exist\n",
        "    rows = pd.Series(False*len(df),index=df.index)\n",
        "\n",
        "   # loop over all columns and mark when a code exist  \n",
        "    for col in cols:\n",
        "      rows=rows | df[col].str.contains(codes_regex, na=False)\n",
        "  \n",
        "  # if not multi valued cells\n",
        "  else:\n",
        "    mask = df[cols].isin(codes)\n",
        "    rows = mask.any(axis=1)\n",
        "  \n",
        "  if 'endstar_rows' in locals():\n",
        "    rows=rows | endstar_rows\n",
        "\n",
        "  return rows"
      ],
      "execution_count": null,
      "outputs": []
    },
    {
      "cell_type": "code",
      "metadata": {
        "id": "CN05UMXsRi6t"
      },
      "source": [
        "  # exporti\r\n",
        "  def _get_rows_endstar(df, codes, cols):\r\n",
        "    \"\"\"\r\n",
        "    Returns rows with codes that starts with a given value(s) in one or \r\n",
        "    more columns, with one or more values in each column\r\n",
        "\r\n",
        "    Note: special function for the special (but common) case when the user \r\n",
        "    wants to pick codes that start with a given string\r\n",
        "    \"\"\"\r\n",
        "    for col in cols:\r\n",
        "      if sep:\r\n",
        "        for code in codes:\r\n",
        "          code=code.strip('*')\r\n",
        "          codes_regex=codes_regex + rf'|\\b{code}\\w+'\r\n",
        "          #double check, potential problem, hyphen a word boundary in regex. Use b vs w+?       \r\n",
        "          rows = rows | df[col].str.contains(rf'\\b{code}\\w+', na=False) # single col, multiple cell values\r\n",
        "      else:\r\n",
        "        rows = rows | df[col].str.startswith(code) # single col, single cell value\r\n",
        "    return rows\r\n"
      ],
      "execution_count": null,
      "outputs": []
    }
  ]
}