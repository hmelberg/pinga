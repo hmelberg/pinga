{
 "cells": [
  {
   "cell_type": "markdown",
   "metadata": {},
   "source": [
    "<a href=\"https://colab.research.google.com/github/hmelberg/pinga/blob/master/notation.ipynb\" target=\"_parent\"><img src=\"https://colab.research.google.com/assets/colab-badge.svg\" alt=\"Open In Colab\"/></a>"
   ]
  },
  {
   "cell_type": "code",
   "execution_count": null,
   "metadata": {},
   "outputs": [],
   "source": [
    "# default_exp notation"
   ]
  },
  {
   "cell_type": "markdown",
   "metadata": {},
   "source": [
    "\n",
    "# Creating notation and functions to deal with medical codes\n",
    "\n",
    "One key problem when dealing with medical codes, is how to describe a group of codes that make up a disease in a short and efficient manner. For instance, there are many dozens of codes that belong under the general category of liver disease. Listing all codes every time we want to select a group of patients with a given conditions, becomes very cumbersome. Instead, we will develop a notation where you can use stars, hyphens and colons to describe sets of medical codes, and functions that expand the shorthand codes to the full set of codes.\n",
    "\n"
   ]
  },
  {
   "cell_type": "markdown",
   "metadata": {},
   "source": [
    "\n",
    "# Notation\n",
    "\n",
    "There are at least three types of symbols that can make it easier to express  code groups:\n",
    "* Stars: C77* would include all codes that start with C77\n",
    "* Hyphen: C77-C80 would be shorthand for C77, C78, C79 and C80\n",
    "* Colon: C77.0:D80.9 would include all codes that are defined in a codebook to be between C77.0 and D80.9 (including these codes themselves).\n"
   ]
  },
  {
   "cell_type": "code",
   "execution_count": null,
   "metadata": {},
   "outputs": [],
   "source": [
    "#export\r\n",
    "import pandas as pd\r\n"
   ]
  },
  {
   "cell_type": "markdown",
   "metadata": {},
   "source": [
    "This kind of notation could simplify things, and make it easier to quickly specify different groups of codes. However, to make use of it we need functions that expand the codes that are written using the notation to the full list of proper codes that the computer can use. \n",
    "\n",
    "\n",
    "These functions are not too difficult, but there are some tricky corners around leading zeros and the precision of decimals. For instance, in order to make hyphen notation work, we could use the following logic to create a function:\n",
    "* Take the string, split it on the hyphen (if it exist), and extract the number component of the start and the end code\n",
    "* Make a list of all the numbers between start and stop (This requires us to convert the start and end to integers and remember the number of decimals and leading zeros since we later have to reconvert it back to its original format)\n",
    "* Convert the list of all the number back to string codes with the same format it had originally (the prefix, leading zeros, number of decimals/trailing zeros, star notation).\n",
    "\n",
    "In code:\n"
   ]
  },
  {
   "cell_type": "code",
   "execution_count": null,
   "metadata": {},
   "outputs": [],
   "source": [
    "#export\n",
    "# function to expand a string like 'K51.2-K53.8' to a list of codes \n",
    "\n",
    "# Need regex to extract the number component of the input string\n",
    "import re\n",
    "from functools import singledispatch\n",
    "\n",
    "# The singledispach decorator enables us to have the same name, but use \n",
    "# different functions depending on the datatype of the first argument.\n",
    "#\n",
    "# In our case we want one function to deal with a single string input, and\n",
    "# another to handle a list of strings. It could all be handled in a single \n",
    "# function using nested if, but singledispatch makes it less messy and more fun!\n",
    "\n",
    "\n",
    "# Here is the main function, it is just the name and an error message if the \n",
    "# argument does not fit any of the inputs that wil be allowed\n",
    "\n",
    "@singledispatch\n",
    "def expand_hyphen(expr):\n",
    "  \"\"\"\n",
    "  Expands codes expression(s) that have hyphens to list of all codes\n",
    "\n",
    "  Args:\n",
    "      expr (str, list or dict): String or list of strings to be expanded \n",
    "  \n",
    "  Returns:\n",
    "      List of strings or dict with list of strings\n",
    "  \n",
    "  Examples:\n",
    "      expand_hyphen('C00*-C26*')\n",
    "      expand_hyphen('b01.1*-b09.9*')\n",
    "      expand_hyphen('n02.2-n02.7')\n",
    "      expand_hyphen('c00*-c260')\n",
    "      expand_hyphen('b01-b09')\n",
    "      expand_hyphen('b001.1*-b009.9*')\n",
    "      expand_hyphen(['b001.1*-b009.9*', 'c11-c15'])\n",
    "  Note:\n",
    "      Unequal number of decimals in start and end code is problematic.\n",
    "      Example: C26.0-C27.11 will not work since the meaning is not obvious:\n",
    "      Is the step size 0.01? In which case C27.1 will not be included, while \n",
    "      C27.10 will be (and trailing zeros can be important in codes)\n",
    "  \"\"\"\n",
    "  raise ValueError('The argument must be a string or a list')\n",
    "\n",
    "# register the function to be used if the input is a string\n",
    "@expand_hyphen.register(str)\n",
    "def _(expr):\n",
    "    # return immediately if nothing to expand\n",
    "    if '-' not in expr:\n",
    "      return [expr]\n",
    "\n",
    "    lower, upper = expr.split('-')\n",
    "    \n",
    "    lower=lower.strip()\n",
    "\n",
    "    # identify the numeric component of the code\n",
    "    lower_str = re.search(\"\\d*\\.\\d+|\\d+\", lower).group()\n",
    "    upper_str = re.search(\"\\d*\\.\\d+|\\d+\", upper).group()\n",
    "    # note: what about european decimal notation?\n",
    "    # also note: what if multiple groups K50.1J8.4-etc\n",
    "\n",
    "\n",
    "    lower_num = int(lower_str.replace('.',''))\n",
    "    upper_num = int(upper_str.replace('.','')) +1\n",
    "    \n",
    "    if upper_num<lower_num:\n",
    "      raise ValueError('The start code cannot have a higher number than the end code')\n",
    "\n",
    "    # remember length in case of leading zeros \n",
    "    length = len(lower_str)\n",
    "\n",
    "    nums = range(lower_num, upper_num)\n",
    "\n",
    "    # must use integers in a loop, not floats\n",
    "    # which also means that we must multiply and divide to get decimal back\n",
    "    # and take care of leading and trailing zeros that may disappear\n",
    "    if '.' in lower_str:\n",
    "      lower_decimals = len(lower_str.split('.')[1])\n",
    "      upper_decimals = len(upper_str.split('.')[1])\n",
    "      if lower_decimals==upper_decimals:\n",
    "        multiplier = 10**lower_decimals\n",
    "        codes = [lower.replace(lower_str, format(num /multiplier, f'.{lower_decimals}f').zfill(length)) for num in nums]\n",
    "      # special case: allow k1.1-k1.123, but not k.1-k2.123 the last is ambigious: should it list k2.0 only 2.00?\n",
    "      elif (lower_decimals<upper_decimals) & (upper_str.split('.')[0]==lower_str.split('.')[0]):\n",
    "        from_decimal = int(lower_str.split('.')[1])\n",
    "        to_decimal = int(upper_str.split('.')[1]) +1\n",
    "        nums = range(from_decimal, to_decimal)\n",
    "        decimal_str = '.'+lower.split('.')[1]\n",
    "        codes = [lower.replace(decimal_str, '.'+str(num)) for num in nums]\n",
    "      else:\n",
    "        raise ValueError('The start code and the end code do not have the same number of decimals')\n",
    "    else:\n",
    "        codes = [lower.replace(lower_str, str(num).zfill(length)) for num in nums]\n",
    "    return codes\n",
    " \n",
    "\n",
    "# register the function to be used if if the input is a list of strings\n",
    "@expand_hyphen.register(list)\n",
    "def _(exprs):\n",
    "  extended = []\n",
    "  for expr in exprs:\n",
    "    extended.extend(expand_hyphen(expr))\n",
    "  return extended\n",
    "\n",
    "# register the function to be used if if the input is a dict with list of strings\n",
    "@expand_hyphen.register(dict)\n",
    "def _(dikt):\n",
    "  extended = {name: expand_hyphen(exprs) for name, exprs in dikt.items()}\n",
    "  return extended"
   ]
  },
  {
   "cell_type": "markdown",
   "metadata": {},
   "source": [
    "And here are some examples:"
   ]
  },
  {
   "cell_type": "code",
   "execution_count": null,
   "metadata": {},
   "outputs": [
    {
     "data": {
      "text/plain": [
       "['K50', 'K51', 'K52', 'K53', 'K54']"
      ]
     },
     "execution_count": null,
     "metadata": {
      "tags": []
     },
     "output_type": "execute_result"
    }
   ],
   "source": [
    "# very standard expansion\n",
    "expand_hyphen('K50-K54')"
   ]
  },
  {
   "cell_type": "code",
   "execution_count": null,
   "metadata": {},
   "outputs": [
    {
     "data": {
      "text/plain": [
       "['K50', 'K51', 'K52', 'K53', 'K54']"
      ]
     },
     "execution_count": null,
     "metadata": {
      "tags": []
     },
     "output_type": "execute_result"
    }
   ],
   "source": [
    "# Leaving out the K in the end code also works\n",
    "expand_hyphen('K50-54')"
   ]
  },
  {
   "cell_type": "code",
   "execution_count": null,
   "metadata": {},
   "outputs": [
    {
     "data": {
      "text/plain": [
       "['K50*', 'K51*', 'K52*', 'K53*', 'K54*']"
      ]
     },
     "execution_count": null,
     "metadata": {
      "tags": []
     },
     "output_type": "execute_result"
    }
   ],
   "source": [
    "# hyphen-expansion with stars keep the stars\n",
    "expand_hyphen('K50*-K54*')"
   ]
  },
  {
   "cell_type": "code",
   "execution_count": null,
   "metadata": {},
   "outputs": [
    {
     "data": {
      "text/plain": [
       "['K50.9', 'K51.0', 'K51.1', 'K51.2']"
      ]
     },
     "execution_count": null,
     "metadata": {
      "tags": []
     },
     "output_type": "execute_result"
    }
   ],
   "source": [
    "# expansion with decimals also work\n",
    "expand_hyphen('K50.9-K51.2')"
   ]
  },
  {
   "cell_type": "code",
   "execution_count": null,
   "metadata": {},
   "outputs": [
    {
     "data": {
      "text/plain": [
       "['K50.*', 'K51.*', 'K52.*', 'K53.*']"
      ]
     },
     "execution_count": null,
     "metadata": {
      "tags": []
     },
     "output_type": "execute_result"
    }
   ],
   "source": [
    "# expansion with decimals and stars \n",
    "# (but usually unnecessary to have decimals here)\n",
    "expand_hyphen('K50.*-K53.*')"
   ]
  },
  {
   "cell_type": "code",
   "execution_count": null,
   "metadata": {},
   "outputs": [
    {
     "data": {
      "text/plain": [
       "['K50.8*', 'K50.9*', 'K51.0*', 'K51.1*', 'K51.2*']"
      ]
     },
     "execution_count": null,
     "metadata": {
      "tags": []
     },
     "output_type": "execute_result"
    }
   ],
   "source": [
    "# decimals and star combined are OK\n",
    "expand_hyphen('K50.8*-K51.2*')"
   ]
  },
  {
   "cell_type": "code",
   "execution_count": null,
   "metadata": {},
   "outputs": [
    {
     "data": {
      "text/plain": [
       "['K09.8', 'K09.9', 'K10.0', 'K10.1', 'K10.2']"
      ]
     },
     "execution_count": null,
     "metadata": {
      "tags": []
     },
     "output_type": "execute_result"
    }
   ],
   "source": [
    "# leading zeros \n",
    "expand_hyphen('K09.8-K10.2')"
   ]
  },
  {
   "cell_type": "code",
   "execution_count": null,
   "metadata": {},
   "outputs": [
    {
     "data": {
      "text/plain": [
       "['K1.99', 'K2.00', 'K2.01', 'K2.02']"
      ]
     },
     "execution_count": null,
     "metadata": {
      "tags": []
     },
     "output_type": "execute_result"
    }
   ],
   "source": [
    "# double digit with leading decimal zero\n",
    "expand_hyphen('K1.99-K2.02')"
   ]
  },
  {
   "cell_type": "code",
   "execution_count": null,
   "metadata": {},
   "outputs": [
    {
     "data": {
      "text/plain": [
       "['K009.8', 'K009.9', 'K010.0', 'K010.1']"
      ]
     },
     "execution_count": null,
     "metadata": {
      "tags": []
     },
     "output_type": "execute_result"
    }
   ],
   "source": [
    "# unequal number of main digits with unequal leading zeros\n",
    "# note: Included K010.1, but not K10.1 \n",
    "# (the pattern in the start code always has priority)\n",
    "expand_hyphen('K009.8-K10.1')"
   ]
  },
  {
   "cell_type": "code",
   "execution_count": null,
   "metadata": {},
   "outputs": [
    {
     "data": {
      "text/plain": [
       "['K01.8', 'K01.9', 'K01.10', 'K01.11', 'K01.12']"
      ]
     },
     "execution_count": null,
     "metadata": {
      "tags": []
     },
     "output_type": "execute_result"
    }
   ],
   "source": [
    "# special case that works: unequal number of decimals, as long as main digits are the same\n",
    "expand_hyphen('K01.8-K01.12')"
   ]
  },
  {
   "cell_type": "code",
   "execution_count": null,
   "metadata": {},
   "outputs": [
    {
     "data": {
      "text/plain": [
       "['K99.8*', 'K99.9*', 'K100.0*', 'K100.1*', 'K100.2*']"
      ]
     },
     "execution_count": null,
     "metadata": {
      "tags": []
     },
     "output_type": "execute_result"
    }
   ],
   "source": [
    "# different number of leading digits work as expected\n",
    "expand_hyphen('K99.8*-K100.2*')"
   ]
  },
  {
   "cell_type": "markdown",
   "metadata": {},
   "source": [
    "The behaviour so far is inuitive, but there are some corner cases that need to be discussed. For instance:\n",
    " \n",
    "    expand_hyphen('K99.1-K100.11')\n",
    "    expand_hyphen('K50.*-K51.2')\n",
    "    expand_hyphen('K50.1-K51.15')\n",
    "    expand_hyphen('K009.8-K10.1')\n",
    "\n",
    "There are several issues here: Differences in the number of leading zeros, different length of the code, mixing notation, and different precision of decimals in the start and end codes. Because of this, there is no way to reliably fill in the intermediate codes in a non-ambigious manner. \n",
    "\n",
    "As an example, consider what codes should be generated if we write 'K50.1-K51.15'? Should the step size be 0.1 or 0.01? If it is 0.01, it would include  K50.20 but not K50.2. There is no inuitive solution and it would make a difference. Remember these are string codes where leading and trailing zeros could be significant for the result.\n",
    "\n"
   ]
  },
  {
   "cell_type": "markdown",
   "metadata": {},
   "source": [
    "# dots and zeros\n",
    "\n",
    "Many code systems are schizophrenic when it comes to dots and zeros. Sometimes they are included, sometimes they are not. For instance, the ICD-10 codes officially use decimals (K50.1), but are very often stored in the databases without decimals  (K501). Another example is the DRG codes which sometimes are used with leading zeros (002), but also presented as numbers without leading zeros (2).\n",
    "\n",
    "It helps little to curse the world for being inconsistent, so the best we can do is to create functions that makes it easier to deal with it. Make it conosistent by having a function that takes the dots away and delets the leading zeros (and optionally the trailing zeros too):"
   ]
  },
  {
   "cell_type": "code",
   "execution_count": null,
   "metadata": {},
   "outputs": [],
   "source": [
    "#export\n",
    "def del_dot(code):\n",
    "  if isinstance(code, str):\n",
    "    return code.replace('.','')\n",
    "  else:\n",
    "    codes = [c.replace('.','') for c in code]\n",
    "  return codes\n",
    "\n",
    "def del_zero(code, left=True, right=False):\n",
    "  if isinstance(codes, str):\n",
    "    codes=[code]\n",
    "  if left:\n",
    "    codes = [c.lstrip('0') for c in code]\n",
    "  if right:\n",
    "    codes = [c.rstrip('0') for c in code]\n",
    "  if isinstance(code, str):\n",
    "    codes=codes[0]\n",
    "  return codes"
   ]
  },
  {
   "cell_type": "markdown",
   "metadata": {},
   "source": [
    "# Star notation\n",
    "Expanding codes using star notation is different from hyphens. Hyphens simply insert numbers in increasing order, but star notation requires an external codelist from which we can pick the codes conform with the given string. For instance, 'K50' should include all codes that start with *K50*, but we need the full set of codes to know which codes that start with *K50*. We can get this list in two ways:\n",
    "* Find all unique codes from the codes that exist in the dataframe\n",
    "* Use list of codes from an external codebook\n",
    "\n",
    "Note that there are some small differences between the two approaches. Repeatedly constructing a list of codes from information in columns might be time consuming with large dataframes, and we should be careful to do it in the most efficient manner possible. Also, using the existing codes to define a list of codes, might not identify all possible codes. Instead it will only identify all those codes that have been used in the data. Expansion using 'all codes in my data' as opposed 'all codes in the official codebook' may produce different results. For many purposes we only want a list of those codes that actually exist in the data - and including irrelevant codes would just make things slower. But it is a difference one should be aware of.\n",
    "\n",
    "As soon as we have a list of all possible codes, picking those that start with a given string, is very easy. The hard part is creating that list. \n",
    "\n",
    "We might, however, make the notation slightly more flexible. Instad of only allowing the user to search for everything that starts with a given pattern,  one might allow searching for all codes that end with a given string, for instance everything that ends with **B3*. Even more advanced, one could allow stars in the middle: Searching for codes that start with something and end with something. Finally, if more advanced searches are desired, we could allow expansion based on a regex pattern i.e. include those codes in a codelist that conform to a pattern described by a regex expression. Lastly, there might be codes that actually have stars and hyphens as part of the code itself - in which case we have to be careful not to expand the codes as if the hyphen or star were notational symbols (for instance by introducing a *raw=True* argument to indicate that the codes should not be expanded).\n",
    "\n",
    "These complications will introduce themselves as we progress. For now, we need a function that creates a list of all possible codes by identifying the unique values in one or more columns:\n",
    "\n"
   ]
  },
  {
   "cell_type": "code",
   "execution_count": null,
   "metadata": {},
   "outputs": [],
   "source": [
    "#export\n",
    "# A function to identify all unique values in one or more columns \n",
    "# with one or multiple codes in each cell\n",
    "\n",
    "\n",
    "def get_unique(df, cols=None, sep=None, all_str=False):\n",
    "  # if no column(s) are specified, find unique values in whole dataframe\n",
    "  if cols==None:\n",
    "    cols=df.columns\n",
    "  # multiple values with seperator in cells\n",
    "  if sep:\n",
    "    all_unique=set()\n",
    "\n",
    "    for col in cols:\n",
    "      new_unique = set(df[col].str.cat(sep=',').split(','))\n",
    "      all_unique.update(new_unique)\n",
    "  # single valued cells\n",
    "  else:\n",
    "    values = pd.unique(df[cols].values.ravel('K'))\n",
    "  \n",
    "  # if need to make sure all elements are strings without surrounding spaces\n",
    "  if all_str:\n",
    "    values=[str(value).strip() for value in values]\n",
    "\n",
    "  return values"
   ]
  },
  {
   "cell_type": "markdown",
   "metadata": {},
   "source": [
    "As long as we have a function to create the list of codes, expanding a code with star notation is a matter of iterating over the full codelist to find codes that start or end (or both) with the specified code string. Once again we create one function for a single code, and another function for when we want a list of codes to be expanded:"
   ]
  },
  {
   "cell_type": "code",
   "execution_count": null,
   "metadata": {},
   "outputs": [],
   "source": [
    "#export\n",
    "# A function to expand a string with star notation (K50*) \n",
    "# to list of all codes starting with K50\n",
    "\n",
    "@singledispatch\n",
    "def expand_star(code, codelist=None):\n",
    "  \"\"\"\n",
    "  Expand expressions with star notation to a list of all values with the specified pattern\n",
    "  \n",
    "  Args:\n",
    "    expr (str or list): Expression (or list of expressions) to be expanded\n",
    "    codelist (list) : A list of all codes\n",
    "\n",
    "  Examples:\n",
    "    expand_star('K50*', codelist=icd9)\n",
    "    expand_star('K*5', codelist=icd9)\n",
    "    expand_star('*5', codelist=icd9)\n",
    "\n",
    "  \"\"\"\n",
    "  raise ValueError('The argument must be a string or a list')\n",
    "\n",
    "@expand_star.register(str)\n",
    "def _(code, codelist=None): \n",
    "  # return immediately if there is nothing to expand\n",
    "  if '*' not in code:\n",
    "    return [code]\n",
    " \n",
    "  start_str, end_str = code.split('*')\n",
    "\n",
    "  if start_str and end_str:\n",
    "    codes = {code for code in codelist if (code.startswith(start_str) & code.endswith(end_str))}\n",
    "\n",
    "  if start_str:\n",
    "    codes = {code for code in codelist if code.startswith(start_str)}\n",
    "  \n",
    "  if end_str:\n",
    "    codes = {code for code in codelist if code.endswith(end_str)}\n",
    "\n",
    "  return sorted(list(codes))\n",
    "\n",
    "@expand_star.register(list)\n",
    "def _(code, codelist=None):\n",
    "  \n",
    "  expanded=[]\n",
    "  for star_code in code:\n",
    "    new_codes = expand_star(star_code, codelist=codelist)\n",
    "    expanded.extend(new_codes)\n",
    "  \n",
    "  # uniqify in case some overlap\n",
    "  expanded = list(set(expanded))\n",
    "\n",
    "  return sorted(expanded)\n",
    "\n",
    "# register the function to be used if if the input is a dict with list of strings\n",
    "@expand_star.register(dict)\n",
    "def _(dikt):\n",
    "  extended = {name: expand_star(exprs) for name, exprs in dikt.items()}\n",
    "  return extended\n",
    "\n"
   ]
  },
  {
   "cell_type": "markdown",
   "metadata": {},
   "source": [
    "Before we test this, we might as well create the other funtions since they follow the same pattern. First, a function to expand a code using colons (from a given code, to a given code in a codelist, inclulding all codes in between). Second, a function to include only those codes in a codelist that follow a specified regex pattern. Lastly, we create a function that will handle everything i.e. do all the required expansions regardless of what type it is, and which also work when (relevant) notation is combined. Hyphen and star can be combined, regex and colon notation cannot be combined with anything else:"
   ]
  },
  {
   "cell_type": "markdown",
   "metadata": {},
   "source": [
    "## Colon notation"
   ]
  },
  {
   "cell_type": "markdown",
   "metadata": {},
   "source": [
    "Hyphen and star notation work fine if the codes are in the same main category (```tumor = 'C77*-C80*'```), but what if you want all codes from, say K40 to L52? In this case we cannot use hyphen or star, and the solution is colon notation. This notation includes all codes (as specified in an input list) between two codes (that both must exist in the list and included). Here is the code:"
   ]
  },
  {
   "cell_type": "code",
   "execution_count": null,
   "metadata": {},
   "outputs": [],
   "source": [
    "#export\n",
    "# function to get all codes in a list between the specified start and end code \n",
    "# Example: Get all codes between K40:L52\n",
    "\n",
    "@singledispatch\n",
    "def expand_colon(code, codelist=None):\n",
    "  raise ValueError('The argument must be a string or a list')\n",
    "\n",
    "@expand_colon.register(str)\n",
    "def _(code, codelist=None):\n",
    "  \"\"\"\n",
    "  Expand expressions with colon notation to a list of complete code names\n",
    "  code (str or list): Expression (or list of expressions) to be expanded\n",
    "  codelist (list or array) : The list to slice from\n",
    "\n",
    "  Examples\n",
    "    K50:K52\n",
    "    K50.5:K52.19\n",
    "    A3.0:A9.3\n",
    "\n",
    "  Note: This is different from hyphen and star notation because it can handle \n",
    "  different code lengths and different number of decimals \n",
    "\n",
    "  \"\"\"\n",
    "  if ':' not in code:\n",
    "    return [code]\n",
    "  \n",
    "  startstr, endstr = code.split(':')\n",
    "  \n",
    "  # remove spaces\n",
    "  startstr = startstr.strip()\n",
    "  endstr =endstr.strip()\n",
    "\n",
    "  # find start and end position\n",
    "  startpos = codelist.index(startstr)\n",
    "  endpos = codelist.index(endstr) + 1\n",
    "  \n",
    "  # slice list\n",
    "  expanded = codelist[startpos:endpos+1]\n",
    "\n",
    "  return expanded\n",
    "\n",
    "\n",
    "@expand_colon.register(list)\n",
    "def _(code, codelist=None, regex=False): \n",
    "  expanded=[]\n",
    "\n",
    "  for cod in code:\n",
    "    new_codes = expand_colon(cod, codelist=codelist)\n",
    "    expanded.extend(new_codes)\n",
    "  \n",
    "  return expanded\n",
    "# register the function to be used if if the input is a dict with list of strings\n",
    "@expand_colon.register(dict)\n",
    "def _(dikt):\n",
    "  extended = {name: expand_colon(exprs) for name, exprs in dikt.items()}\n",
    "  return extended"
   ]
  },
  {
   "cell_type": "markdown",
   "metadata": {},
   "source": [
    "## Expansion of codes based on regex"
   ]
  },
  {
   "cell_type": "markdown",
   "metadata": {},
   "source": [
    "Notation using hyphen, star, and colon will often be enough to express codes efficiently, but sometimes it may also be useful to have the option of using more complex code expansion. For this purpose we could have a function that picks out all the codes from a codelist based on whether it fits the regex pattern you specify. This would allow almost all kinds of code expansions."
   ]
  },
  {
   "cell_type": "code",
   "execution_count": null,
   "metadata": {},
   "outputs": [],
   "source": [
    "#export\n",
    "\n",
    "# Return all elements in a list that fits a regex pattern\n",
    "\n",
    "@singledispatch\n",
    "def expand_regex(code, codelist):\n",
    "  raise ValueError('The argument must be a string or a list of strings')\n",
    "\n",
    "@expand_regex.register(str)\n",
    "def _(code, codelist=None):\n",
    "  code_regex = re.compile(code)\n",
    "  expanded = {code for code in codelist if code_regex.match(code)}\n",
    "  # uniqify\n",
    "  expanded = list(set(expanded))\n",
    "  return expanded\n",
    "\n",
    "@expand_regex.register(list)\n",
    "def _(code, codelist):  \n",
    "  expanded=[]\n",
    "\n",
    "  for cod in code:\n",
    "    new_codes = expand_regex(cod, codelist=codelist)\n",
    "    expanded.extend(new_codes)\n",
    "  \n",
    "  # uniqify in case some overlap\n",
    "  expanded = sorted(list(set(expanded)))\n",
    "\n",
    "  return expanded\n",
    "# register the function to be used if if the input is a dict with list of strings\n",
    "@expand_regex.register(dict)\n",
    "def _(dikt):\n",
    "  extended = {name: expand_regex(exprs) for name, exprs in dikt.items()}\n",
    "  return extended"
   ]
  },
  {
   "cell_type": "markdown",
   "metadata": {},
   "source": [
    "## A single function that does all the expansion (star, hyphen, colon, regex) and formatting (delete dots and zeros)\n",
    "\n",
    "A list of codes may use a combination of several notations and instead of asking the user to apply all the different functions (hyphen, star, colon), we should have one function that expands and formats the codes regardless of the type of notation, but with an option of ignoring some symbols if you want (in case the star, colon or the hyphen is part of the actual code and not a notational symbol!):"
   ]
  },
  {
   "cell_type": "code",
   "execution_count": null,
   "metadata": {},
   "outputs": [],
   "source": [
    "#export\n",
    "@singledispatch\n",
    "def expand_code(code, codelist=None, \n",
    "                hyphen=True, star=True, colon=True, regex=False, \n",
    "                drop_dot=False, drop_leading_zero=False,\n",
    "                sort_unique=True):\n",
    "  raise ValueError('The argument must be a string or a list of strings')\n",
    "\n",
    "@expand_code.register(str)\n",
    "def _(code, codelist=None, \n",
    "      hyphen=True, star=True, colon=True, regex=False, \n",
    "      drop_dot=False, drop_leading_zero=False,\n",
    "      sort_unique=True):\n",
    "  #validating input\n",
    "  if (not regex) and (':' in code) and (('-' in code) or ('*' in code)):\n",
    "    raise ValueError('Notation using colon must start from and end in specific codes, not codes using star or hyphen')\n",
    "\n",
    "  if regex:\n",
    "    codes = expand_regex(code, codelist=codelist)\n",
    "    return codes\n",
    "  \n",
    "  if drop_dot:\n",
    "    code = del_dot(code)\n",
    "  \n",
    "  codes=[code]\n",
    "\n",
    "  if hyphen:\n",
    "    codes=expand_hyphen(code)\n",
    "  if star:\n",
    "    codes=expand_star(codes, codelist=codelist)\n",
    "  if colon:\n",
    "    codes=expand_colon(codes, codelist=codelist)\n",
    "\n",
    "  if sort_unique:\n",
    "    codes = sorted(list(set(codes)))\n",
    "\n",
    "  return codes\n",
    "\n",
    "@expand_code.register(list)\n",
    "def _(code, codelist=None, hyphen=True, star=True, colon=True, regex=False, \n",
    "      drop_dot=False, drop_leading_zero=False,\n",
    "      sort_unique=True):\n",
    "  \n",
    "  expanded=[]\n",
    "\n",
    "  for cod in code:\n",
    "    new_codes = expand_code(cod, codelist=codelist, hyphen=hyphen, star=star, colon=colon, regex=regex, drop_dot=drop_dot, drop_leading_zero=drop_leading_zero)\n",
    "    expanded.extend(new_codes)\n",
    "  \n",
    "  # uniqify in case some overlap\n",
    "  expanded = list(set(expanded))\n",
    "\n",
    "  return sorted(expanded)\n",
    "\n",
    "@expand_code.register(dict)\n",
    "def _(code, codelist=None, hyphen=True, star=True, colon=True, regex=False, \n",
    "      drop_dot=False, drop_leading_zero=False,\n",
    "      sort_unique=True):\n",
    "  expanded = {name, expand_code(cod, codelist=codelist, \n",
    "                                hyphen=hyphen, \n",
    "                                star=star, \n",
    "                                colon=colon, \n",
    "                                regex=regex, \n",
    "                                drop_dot=drop_dot, \n",
    "                                drop_leading_zero=drop_leading_zero)\n",
    "              for name, cod in dikt.items()}  \n",
    "  return expanded\n"
   ]
  },
  {
   "cell_type": "code",
   "execution_count": null,
   "metadata": {},
   "outputs": [],
   "source": [
    "#export\n",
    "# mark rows that contain certain codes in one or more colums\n",
    "def get_rows(df, codes, cols=None, sep=None, pid='pid'):\n",
    "  \"\"\"\n",
    "  Make a boolean series that is true for all rows that contain the codes\n",
    "  \n",
    "  Args\n",
    "    df (dataframe or series): The dataframe with codes\n",
    "    codes (str, list, set, dict): codes to be counted\n",
    "    cols (str or list): list of columns to search in\n",
    "    sep (str): The symbol that seperates the codes if there are multiple codes in a cell\n",
    "    pid (str): The name of the column with the personal identifier\n",
    "\n",
    "  \"\"\"\n",
    "    \n",
    "  # string as input for single codes is allowed\n",
    "  # but then must make it a list\n",
    "  if isinstance(codes, str):\n",
    "    codes = [codes]\n",
    "  \n",
    "  # same for cols\n",
    "  # must be a list sine we may loop over it\n",
    "  if not isinstance(cols, list):\n",
    "    cols = [cols]\n",
    "  \n",
    "  # approach depends on whether we have multi-value cells or not\n",
    "  # if sep exist, then have multi-value cells\n",
    "  if sep:\n",
    "    # have multi-valued cells\n",
    "    codes = [rf'\\b{code}\\b' for code in codes]\n",
    "    codes_regex = '|'.join(codes)\n",
    "    \n",
    "    # starting point: no codes have been found\n",
    "    # needed since otherwise the function might return None if no codes exist\n",
    "    rows = pd.Series(False*len(df),index=df.index)\n",
    "\n",
    "   # loop over all columns and mark when a code exist  \n",
    "    for col in cols:\n",
    "      rows=rows | df[col].str.contains(codes_regex, na=False)\n",
    "  \n",
    "  # if not multi valued cells\n",
    "  else:\n",
    "    mask = df[cols].isin(codes)\n",
    "    rows = mask.any(axis=1)\n",
    "  return rows"
   ]
  }
 ],
 "metadata": {
  "kernelspec": {
   "display_name": "Python 3",
   "name": "python3"
  }
 },
 "nbformat": 4,
 "nbformat_minor": 0
}